{
 "cells": [
  {
   "cell_type": "markdown",
   "id": "2544dd96-a13c-42df-ab63-c427e68fd41e",
   "metadata": {},
   "source": [
    "# Lesson 3: Agentic Search"
   ]
  },
  {
   "cell_type": "markdown",
   "id": "4f970e2b",
   "metadata": {
    "height": 30
   },
   "source": [
    "## High-level overview\n",
    "\n",
    "\n",
    "![image](./l3-1.png)\n",
    "\n",
    "Let's understand how an agent might use it. In a zero shot learning an agent would receive a prompt and will produce an answer based on its static weights of the model.\n",
    "As powerful as it's proven to be, there are many limitations to this process.\n",
    "First, the data on this is dynamic.\n",
    "So we couldn't, for instance, ask about the scores from the game last night.\n",
    "Secondly, in many use cases, we would want to know the sources of the information provided in the result.\n",
    "This can reduce hallucinations and smooth the friction of this human-computer interaction.\n",
    "\n",
    "## Low-level overview\n",
    "\n",
    "![image](./l3-2.png)\n",
    "\n",
    "For example, if an agent would ask \"How is the weather in San Francisco?\" The search tool should use the weather APl for best results. the job doesn't end with finding the correct source.\n",
    "The search tool would then have to extract only the relevant information to the subquery.\n",
    "\n",
    "A basic implementation of this can be achieved through a process of chunking the source, and run a quick vector search to retrieve the top-K chunks. After retrieving the data from its source, the search tool would then score the results and filter out the less relevant information."
   ]
  },
  {
   "cell_type": "code",
   "execution_count": 1,
   "id": "d0168aee-bce9-4d60-b827-f86a88187e31",
   "metadata": {
    "height": 183
   },
   "outputs": [],
   "source": [
    "# libraries\n",
    "from dotenv import load_dotenv\n",
    "import os\n",
    "from tavily import TavilyClient\n",
    "\n",
    "# load environment variables from .env file\n",
    "_ = load_dotenv()\n",
    "\n",
    "# connect\n",
    "client = TavilyClient(api_key=os.environ.get(\"TAVILY_API_KEY\"))"
   ]
  },
  {
   "cell_type": "code",
   "execution_count": 2,
   "id": "a2ba84ec-c172-4de7-ac55-e3158a531b23",
   "metadata": {
    "height": 98
   },
   "outputs": [
    {
     "data": {
      "text/plain": [
       "\"The new Nvidia Blackwell GPU is built upon a 208 billion transistor, dual-die architecture with a 10 TB/s chip-to-chip interconnect. It is designed specifically for datacenter-scale generative AI applications and is named after David Harold Blackwell, a notable statistician and mathematician. The Blackwell GPU offers a 30X performance increase and a 25X decrease in total cost of ownership (TCO) over its predecessor, the H100. Additionally, multiple Blackwell GPUs can be interconnected using Nvidia's Quantum-X800 and Spectrum-X800 Ethernet at speeds up to 800 GB/s.\""
      ]
     },
     "execution_count": 2,
     "metadata": {},
     "output_type": "execute_result"
    }
   ],
   "source": [
    "# run search\n",
    "result = client.search(\"What is in Nvidia's new Blackwell GPU?\", include_answer=True)\n",
    "\n",
    "# print the answer\n",
    "result[\"answer\"]"
   ]
  },
  {
   "cell_type": "markdown",
   "id": "d7f3f33c-c7bd-4b7f-9616-b65eef104514",
   "metadata": {},
   "source": [
    "## Regular search"
   ]
  },
  {
   "cell_type": "code",
   "execution_count": 3,
   "id": "876d5092-b8ef-4e38-b4d7-0e80c609bf7a",
   "metadata": {
    "height": 166
   },
   "outputs": [],
   "source": [
    "# choose location (try to change to your own city!)\n",
    "\n",
    "city = \"London\"\n",
    "\n",
    "query = f\"\"\"\n",
    "    what is the current weather in {city}?\n",
    "    Should I travel there today?\n",
    "    \"weather.com\"\n",
    "\"\"\""
   ]
  },
  {
   "cell_type": "markdown",
   "id": "2128e40f-11ef-41ed-ac1f-7feeb5546224",
   "metadata": {},
   "source": [
    "> Note: search was modified to return expected results in the event of an exception. High volumes of student traffic sometimes cause rate limit exceptions."
   ]
  },
  {
   "cell_type": "code",
   "execution_count": 4,
   "id": "10084a02-2928-4945-9f7c-ad3f5b33caf7",
   "metadata": {
    "height": 402
   },
   "outputs": [
    {
     "name": "stdout",
     "output_type": "stream",
     "text": [
      "https://weather.com/en-GB/weather/hourbyhour/l/London+England?canonicalCityId=805c6df1c2518951d4dffa28cf6e483358644c3131109dff6c9a8a2c265fbc67\n",
      "https://weather.com/en-GB/weather/today/l/7517a52d4d1815e639ae1001edb8c5fda2264ea579095b0f28f55c059599e074\n",
      "https://weather.com/weather/hourbyhour/l/London+England+United+Kingdom?canonicalCityId=805c6df1c2518951d4dffa28cf6e483358644c3131109dff6c9a8a2c265fbc67\n",
      "https://weather.com/weather/today/l/ae8230efd4bc57fdf721a02c7eb2b88c56aa6e71d73666328e33af3ea2039032132e24ae91b6a07862c5091a9d95a4b8\n",
      "https://weather.com/weather/tenday/l/London+England+United+Kingdom?canonicalCityId=805c6df1c2518951d4dffa28cf6e483358644c3131109dff6c9a8a2c265fbc67\n",
      "https://weather.com/en-GB/weather/tenday/l/7bc0022212d6873b8226ac81bad9714bc956aef8851519b045d7750eb3ea4745\n"
     ]
    }
   ],
   "source": [
    "import requests\n",
    "from bs4 import BeautifulSoup\n",
    "from duckduckgo_search import DDGS\n",
    "import re\n",
    "\n",
    "ddg = DDGS()\n",
    "\n",
    "def search(query, max_results=6):\n",
    "    try:\n",
    "        results = ddg.text(query, max_results=max_results)\n",
    "        return [i[\"href\"] for i in results]\n",
    "    except Exception as e:\n",
    "        print(f\"returning previous results due to exception reaching ddg.\")\n",
    "        results = [ # cover case where DDG rate limits due to high deeplearning.ai volume\n",
    "            \"https://weather.com/weather/today/l/USCA0987:1:US\",\n",
    "            \"https://weather.com/weather/hourbyhour/l/54f9d8baac32496f6b5497b4bf7a277c3e2e6cc5625de69680e6169e7e38e9a8\",\n",
    "        ]\n",
    "        return results  \n",
    "\n",
    "\n",
    "for i in search(query):\n",
    "    print(i)"
   ]
  },
  {
   "cell_type": "code",
   "execution_count": 5,
   "id": "d31c432d-8e22-412f-b302-961ace0b00bd",
   "metadata": {
    "height": 302
   },
   "outputs": [],
   "source": [
    "# Sai: We don't want to get the link, but instead, we need to get the content from the links\n",
    "# so we have below helper function to get the content\n",
    "def scrape_weather_info(url):\n",
    "    \"\"\"Scrape content from the given URL\"\"\"\n",
    "    if not url:\n",
    "        return \"Weather information could not be found.\"\n",
    "    \n",
    "    # fetch data\n",
    "    headers = {'User-Agent': 'Mozilla/5.0'}\n",
    "    response = requests.get(url, headers=headers)\n",
    "    if response.status_code != 200:\n",
    "        return \"Failed to retrieve the webpage.\"\n",
    "\n",
    "    # parse result\n",
    "    soup = BeautifulSoup(response.text, 'html.parser')\n",
    "    return soup\n"
   ]
  },
  {
   "cell_type": "markdown",
   "id": "0b67d8ad-a439-4c91-9dfe-7c84998ef644",
   "metadata": {},
   "source": [
    "> Note: This produces a long output, you may want to right click and clear the cell output after you look at it briefly to avoid scrolling past it."
   ]
  },
  {
   "cell_type": "code",
   "execution_count": 6,
   "id": "714d1205-f8fc-4912-b148-2a45da99219c",
   "metadata": {
    "height": 149
   },
   "outputs": [
    {
     "name": "stdout",
     "output_type": "stream",
     "text": [
      "Website: https://weather.com/en-GB/weather/hourbyhour/l/London+England?canonicalCityId=805c6df1c2518951d4dffa28cf6e483358644c3131109dff6c9a8a2c265fbc67\n",
      "\n",
      "\n",
      "<body><div class=\"appWrapper DaybreakLargeScreen LargeScreen lightTheme twcTheme DaybreakLargeScreen--appWrapper--3kKUE gradients--cloudyFoggyDay--R2hTM gradients--cloudyFoggyDay-top--3dKG9\" id=\"appWrapper\"><div class=\"region-meta\"><div class=\"removeIfEmpty\" id=\"WxuHtmlHead-meta-\"></div></div><div class=\"region-topAds regionTopAds DaybreakLargeScreen--regionTopAds--2kcLJ\"><div class=\"removeIfEmpty\" id=\"WxuAd-topAds-53dce052-5465-4609-a555-c3a20ab64ab0\"><div class=\"adWrapper BaseAd--adWrapper--1dWzA BaseAd--card--2G19u BaseAd--hide--3LkRr\"><div class=\"adLabel BaseAd--adLabel--1LMu9\">Advertisement</div><div class=\"ad_module BaseAd--ad_module--DeGCt subs-undefined BaseAd--placeholder--3IQan\" id=\"WX_Hidden\"></div></div></div><div class=\"removeIfEmpty\" id=\"WxuAd-topAds-fe926b10-58bc-448a-ab09-47e692334250\"><div class=\"adWrapper BaseAd--adWrapper--1dWzA BaseAd--card--2G19u BaseAd--hide--3LkRr\"><div class=\"adLabel BaseAd--adLabel--1LMu9\">Advertisement</div><div class=\"ad_module BaseAd--ad_module--DeGCt subs-undefined BaseAd--placeholder--3IQan\" id=\"MW_Interstitial\"></div></div></div></div><div class=\"region-header regionHeader gradients--cloudyFoggyDay-top--3dKG9\" id=\"regionHeader\"><div class=\"removeIfEmpty\" id=\"WxuHeaderLargeScreen-header-9944ec87-e4d4-4f18-b23e-ce4a3fd8a3ba\"><header aria-label=\"Menu\" class=\"MainMenuHeader--MainMenuHeader--3otiY HeaderLargeScreen--HeaderLargeScreen--1Cce9 gradients--cloudyFoggyDay-top--3dKG9\" role=\"banner\"><div class=\"MainMenuHeader--wrapper--1bqUj\"><div class=\"MainMenuHeader--wrapperLeft--23iHH\"><a class=\"MainMenuHeader--accessibilityLink--MsF_3 Button--secondary--20nC3\" href=\"#MainContent\" target=\"_self\">Skip to Main Content</a><a class=\"MainMenuHeader--accessibilityLink--MsF_3 Button--secondary--20nC3\" href=\"https://www.essentialaccessibility.com/the-weather-channel?utm_source=theweatherchannelhomepage&amp;utm_medium=iconlarge&amp;utm_term=eachannelpage&amp;utm_content=header&amp;utm_campaign=theweatherchannel\" target=\"_self\">Accessibility Help</a><a class=\"Button--default--2gfm1 Button--iconOnly--1oVrZ\" href=\"/en-GB\" target=\"_self\"><svg aria-label=\"The Weather Company - Home\" class=\"MainMenuHeader--twcLogo--3Ovn0 Icon--icon--2aW0V Icon--lightTheme--2Ktm2\" data-testid=\"Icon\" name=\"twc-logo\" set=\"nav\" theme=\"light\" viewbox=\"0 0 24 24\"><title>The Weather Channel</title><path d=\"M0 0h24v24H0V0zm2.0433 6.807v.657h.9629v3.2794h.8043V7.464h.9402l.1303-.657H2.0433zm3.0982-.0794c.034.119.0567.3908.0567.6627v3.3531h.7703V8.6647c.1699-.1529.4134-.2662.6003-.2662.2153 0 .2946.1076.2946.3965v1.9484h.742V8.7157c0-.3285-.017-.3738-.0737-.538-.0906-.2436-.3965-.4136-.7533-.4136-.2945 0-.623.1246-.8213.3116 0-.034.0114-.153.0114-.2436v-.5777c0-.2776-.017-.5494-.051-.708l-.776.1812zm5.1655 3.2455c-.2322.1926-.4758.2889-.7363.2889-.3908 0-.6117-.2549-.6117-.7024V9.537h1.6765v-.1756c0-.606-.119-.9969-.3851-1.2687-.187-.1926-.5041-.3059-.8383-.3059-.3852 0-.674.1246-.9119.3908-.2549.2832-.3625.6287-.3625 1.1498 0 .912.538 1.501 1.3707 1.501.4078 0 .759-.1303 1.0931-.4022l-.2945-.453zm-8.241 2.1964l.9402 3.9704h.9005l.323-1.6142c.1132-.5778.1925-1.1328.1925-1.1328.0057.034.051.5324.1869 1.1441l.3512 1.6029h.8666l.9515-3.9704h-.8326l-.3228 1.4952c-.068.3286-.204 1.1838-.2153 1.3084 0 0-.0963-.674-.1699-1.0421l-.3625-1.7615h-.8666l-.3512 1.5915c-.1189.5438-.1869 1.1045-.2039 1.2575 0 0-.0453-.5608-.2095-1.2971l-.3399-1.552H2.066zm7.0172 3.1661c-.2322.1926-.4758.289-.7363.289-.3908 0-.6117-.255-.6117-.7024v-.0227h1.6765v-.1756c0-.606-.119-.9968-.3851-1.2687-.187-.1926-.5041-.3059-.8383-.3059-.3851 0-.674.1246-.9119.3908-.2549.2832-.3625.6287-.3625 1.1498 0 .912.538 1.501 1.3707 1.501.4078 0 .759-.1303 1.0931-.4021l-.2945-.4532zm.742-1.7841l.3228.5437c.3115-.2095.5947-.3285.8383-.3285.2775 0 .3398.1076.3398.4305v.119c-.0792-.0058-.1132-.0058-.1699-.0058-.9232 0-1.3933.3172-1.3933.9969 0 .5777.3511.9063.9968.9063.238 0 .4418-.0567.5834-.1586.0567-.0397.068-.051.1756-.153.0737.1473.2323.2776.4078.3512l.4022-.4644c-.221-.1643-.2719-.2833-.2719-.5948v-.051l.017-.9742c0-.3115-.0113-.402-.051-.521-.1133-.3229-.4474-.5041-.9345-.5041-.2663 0-.5098.051-.793.1699-.204.0793-.2832.119-.4701.2379zm4.4009-.3512h-.6797c0-.2945.017-.606.0453-.8723l-.7703.1926c-.0283.2152-.0283.4078-.0283.691h-.2889v.4928h.2889v1.5973c0 .2661.0056.3228.051.4474.085.2549.3964.4248.7816.4248.1982 0 .3965-.0396.6174-.1303l-.0964-.453c-.1359.0396-.2038.0566-.2718.0566-.2606 0-.3285-.0963-.3285-.4645v-1.4783h.4871l.1926-.5041zm.2095-1.1101c.034.1189.0566.3908.0566.6626v3.3531h.7703v-2.0787c.17-.1529.4135-.2662.6004-.2662.2152 0 .2945.1077.2945.3965v1.9484h.742v-2.0277c0-.3285-.017-.3738-.0736-.538-.0907-.2436-.3965-.4135-.7533-.4135-.2946 0-.623.1246-.8213.3115 0-.034.0113-.153.0113-.2435v-.5778c0-.2775-.017-.5494-.051-.708l-.776.1813zm5.1654 3.2454c-.2322.1926-.4757.289-.7363.289-.3908 0-.6117-.255-.6117-.7024v-.0227h1.6765v-.1756c0-.606-.1189-.9968-.385-1.2687-.187-.1926-.5042-.3059-.8383-.3059-.3852 0-.674.1246-.912.3908-.2548.2832-.3625.6287-.3625 1.1498 0 .912.5381 1.501 1.3707 1.501.4078 0 .759-.1303 1.0932-.4021l-.2946-.4532zm.7817-2.0163c.0623.1642.1076.4587.1076.8495v1.9371h.759v-2.0503c.1415-.1643.2945-.2436.4644-.2436.085 0 .1472.017.2209.0567l.2096-.6684c-.119-.051-.17-.0623-.2833-.0623-.085 0-.1869.017-.2492.0453-.1415.068-.3228.221-.4304.3682-.0113-.1643-.051-.2945-.119-.4135l-.6796.1813zM4.9489 17.7585c-.2152-.1869-.606-.3115-.9968-.3115-.6344 0-1.2008.3399-1.5067.912-.1812.3398-.2662.7306-.2662 1.2233 0 .5778.1586 1.0536.4758 1.4104.3229.3682.742.5437 1.2857.5437.4475 0 .7817-.1132 1.0932-.3681l-.3625-.4985a3.6136 3.6136 0 0 1-.0793.0624c-.1926.1302-.3795.1925-.5947.1925-.3399 0-.6004-.1529-.759-.4418-.119-.2152-.1642-.5154-.1642-1.0535 0-.4588.068-.7873.2209-1.0138.1416-.2096.402-.3399.6683-.3399.2209 0 .4305.0737.6287.221l.3568-.5382zm.3908-.3058c.034.119.0566.3908.0566.6627v3.353h.7703v-2.0786c.17-.153.4135-.2662.6004-.2662.2152 0 .2945.1076.2945.3964v1.9485h.742v-2.0277c0-.3286-.017-.3739-.0736-.5381-.0906-.2436-.3965-.4135-.7533-.4135-.2946 0-.623.1246-.8213.3115 0-.034.0113-.153.0113-.2435v-.5778c0-.2775-.017-.5494-.051-.708l-.776.1813zm3.0755 1.4613l.3228.5437c.3115-.2095.5947-.3285.8383-.3285.2775 0 .3398.1077.3398.4305v.119c-.0793-.0057-.1133-.0057-.17-.0057-.9231 0-1.3932.3171-1.3932.9968 0 .5778.3511.9063.9968.9063.2379 0 .4418-.0567.5834-.1586.0566-.0397.068-.051.1756-.153.0736.1473.2322.2776.4078.3512l.4021-.4644c-.2209-.1643-.2718-.2832-.2718-.5947v-.051l.017-.9742c0-.3116-.0114-.4022-.051-.5211-.1133-.3229-.4475-.5041-.9346-.5041-.2662 0-.5097.051-.793.17-.2038.0792-.2831.1189-.47.2378zm2.8546-.2266c.068.1926.102.4305.102.6797v2.1014h.7589V19.418c.1756-.1586.3738-.2606.5267-.2606.1983 0 .255.0963.255.4248v1.8862h.7476V19.35c0-.1812-.017-.3058-.0567-.4134-.0906-.2493-.3738-.4192-.6966-.4192-.17 0-.3682.0453-.5211.1246-.1246.068-.1586.0907-.3342.2152 0-.1189-.0397-.2435-.1076-.3624l-.674.1925zm3.0188 0c.068.1926.102.4305.102.6797v2.1014h.759V19.418c.1755-.1586.3737-.2606.5267-.2606.1982 0 .2549.0963.2549.4248v1.8862h.7476V19.35c0-.1812-.017-.3058-.0566-.4134-.0906-.2493-.3739-.4192-.6967-.4192-.17 0-.3681.0453-.521.1246-.1247.068-.1587.0907-.3342.2152 0-.1189-.0397-.2435-.1077-.3624l-.674.1925zm5.0806 2.0108c-.2323.1925-.4758.2888-.7364.2888-.3908 0-.6117-.2548-.6117-.7023v-.0226h1.6766v-.1757c0-.606-.119-.9968-.3852-1.2687-.1869-.1926-.504-.3058-.8382-.3058-.3852 0-.674.1246-.912.3908-.2548.2832-.3625.6287-.3625 1.1497 0 .912.5381 1.501 1.3707 1.501.4078 0 .759-.1302 1.0932-.4021l-.2945-.4531zm1.5859-3.421l-.776.1755c.0283.2605.0397.4927.0397.8722v2.1637c0 .4135.0113.504.068.6513.0905.2436.3511.3965.674.3965.1642 0 .3228-.0283.453-.0792l-.1302-.4532c-.0396.0113-.0566.0113-.085.0113-.0623 0-.1246-.0283-.1529-.0792-.0453-.0793-.051-.1473-.051-.6458v-2.2599c0-.4078-.0113-.5947-.0396-.7533zM8.9703 8.9818h.878v-.034c0-.2152-.0227-.3285-.0907-.4361-.0736-.1133-.1813-.17-.3342-.17-.2888 0-.453.2266-.453.6288v.0113zm-1.2238 5.3625h.878v-.034c0-.2152-.0227-.3285-.0907-.436-.0736-.1134-.1812-.17-.3342-.17-.2888 0-.4531.2266-.4531.6287v.0113zm3.5683.4928h-.034c-.5267 0-.708.0963-.708.4418 0 .2265.1416.3795.3342.3795.1416 0 .2832-.0737.3965-.1983l.0113-.623zm6.9495-.4928h.878v-.034c0-.2152-.0227-.3285-.0907-.436-.0736-.1134-.1812-.17-.3341-.17-.2889 0-.4532.2266-.4532.6287v.0113zm-8.3595 5.8553h-.034c-.5268 0-.708.0963-.708.4418 0 .2266.1416.3795.3342.3795.1416 0 .2832-.0736.3965-.1982l.0113-.623zm8.1277-.4927h.8779v-.034c0-.2153-.0227-.3285-.0906-.4361-.0737-.1133-.1813-.17-.3342-.17-.2889 0-.4531.2266-.4531.6287v.0114z\" fill=\"currentColor\" fill-rule=\"evenodd\"></path></svg></a></div><div class=\"MainMenuHeader--wrapperRight--2svum\"><div class=\"Search--Search--1wPLJ\" data-testid=\"Search\" role=\"search\"><form autocomplete=\"off\"><div class=\"SearchCombobox--Combobox--37QcX\" tabindex=\"-1\"><div class=\"SearchInput--SearchInput--2KlUY SearchInput--enableSearchIcon--1usUV SearchInput--MainMenu--1rcwm\"><fieldset class=\"SearchInput--fieldset--3b84Z Fieldset--fieldset--29wBJ\"><legend class=\"Fieldset--legend--U70dZ Accessibility--visuallyHidden--H7O4p\">Type at least three characters to start auto complete. Recently searched locations will be displayed if there is no search query. The first option will be automatically selected. Use up and down arrows to change selection. Use escape to clear.</legend><label class=\"Accessibility--visuallyHidden--H7O4p\" for=\"LocationSearch_input\">Search City or Postcode</label><input aria-autocomplete=\"list\" aria-controls=\"\" aria-expanded=\"false\" autocapitalize=\"off\" autocomplete=\"off\" class=\"SearchInput--InputField--1UoCv Search--inputClass--1FEhl HeaderLargeScreen--searchInputClass--foRFQ\" data-testid=\"searchModalInputBox\" disabled=\"\" id=\"LocationSearch_input\" placeholder=\"Search City or Postcode\" role=\"combobox\" type=\"text\" value=\"\"/></fieldset><svg class=\"SearchInput--searchIcon--K2p09 Icon--icon--2aW0V Icon--lightTheme--2Ktm2\" data-testid=\"Icon\" name=\"location\" set=\"ui\" theme=\"light\" viewbox=\"0 0 20 20\"><title>Search</title><path d=\"M11.493 3.54c-2.284 0-4.142 1.866-4.142 4.16s1.858 4.16 4.142 4.16c2.284 0 4.142-1.866 4.142-4.16s-1.858-4.16-4.142-4.16zM7.026 11.72c-0.954-1.068-1.541-2.475-1.541-4.020 0-3.327 2.695-6.033 6.007-6.033s6.007 2.707 6.007 6.033c0 3.327-2.695 6.033-6.007 6.033-1.103 0-2.133-0.305-3.022-0.828l-4.327 5.099c-0.185 0.217-0.447 0.329-0.71 0.329-0.215 0-0.43-0.073-0.605-0.224-0.392-0.336-0.438-0.927-0.104-1.32l4.303-5.069z\"></path></svg></div><div class=\"RecentLocations--container--3BLMa\" role=\"alert\"><div class=\"SearchTitle--container--1CxY6\"><h2 class=\"SearchTitle--text--JJQbF\" data-testid=\"searchedLocTitle\">recents</h2><button class=\"Button--default--2gfm1 RecentLocations--clearButton--1NJs4\" data-testid=\"clearAll\" type=\"button\">Clear All</button></div><div class=\"RecentLocations--NoResults--DysWr\">You have no recent locations</div></div></div></form></div><div class=\"LanguageSelector--LanguageSelector--hi_1G\" data-testid=\"languageSelectorSection\"><button aria-expanded=\"false\" aria-haspopup=\"menu\" aria-label=\"[object Object]\" class=\"Button--default--2gfm1\" data-testid=\"ctaButton\" type=\"button\"><div class=\"LanguageSelector--menuButtonInner--3z59Z\"><svg class=\"LanguageSelector--globeIcon--2-KWS Icon--icon--2aW0V Icon--lightTheme--2Ktm2\" data-testid=\"Icon\" name=\"globe\" set=\"ui\" theme=\"light\" viewbox=\"0 0 24 24\"><title>Globe</title><path d=\"M14.227 8.016h-.141c-.047-.023-.352.305-.352.305s-.234.094-.258.141c0 .047-.07 0-.023.07.023.07.164.023.234-.07.094-.07.258-.117.328-.164.07-.07.094-.047.234-.117.141-.047.234-.07.188-.141-.023-.023-.07-.023-.117-.023h-.117zm-1.243-.375c-.117 0-.258.047-.328.164-.047.117 0 .305-.023.398s-.047.305.07.328c.141.023.141-.188.117-.234s-.023-.281.047-.328c.047-.047.117-.164.258-.164.141-.023.258.094.234.211s.023.234.07.234.211-.094.164-.164.047-.352.047-.258.117.164.188.141-.07-.258-.164-.258c-.094-.023-.281-.023-.328 0-.023 0-.094 0-.164-.023s-.141-.023-.188-.023h-.023zm-.679-.305c-.164.07-.234.047-.234.141 0 .07.141.07.211.047a.708.708 0 01.258-.07c.047-.023.023.07.141.07s.281.047.305.023.164-.164.047-.188c-.094-.023-.234-.117-.328-.188-.023-.023-.023-.023-.047-.023-.094 0-.234.141-.398.188zM6.68 7.242c.07.047.211.047.211.117s.047.234.117.211.07-.164.023-.211-.258-.211-.305-.211-.117-.07-.164-.094h-.023c-.07 0 .07.164.117.211zM2.953 5.555c-.141.094-.211.047-.281.117s-.281.141-.211-.023.07-.188-.047-.141-.141.141-.141.211-.188.164-.188.164.164.023.234 0 .023.141-.047.188-.164.141-.281.117-.117-.117-.188-.141c-.047 0-.094.023-.188.07A11.924 11.924 0 00.045 12c0 6.563 5.344 11.93 11.93 11.906.984 0 1.945-.141 2.859-.375a.174.174 0 01-.117-.211c.047-.141-.07-.141-.141-.211-.07-.094.094-.141.07-.188s-.141-.023-.164-.117.094-.258.117-.281c0-.047-.094-.141-.117-.188 0-.047.047-.117.164-.234.094-.094.164-.234.164-.281s-.07-.164-.07-.281c0-.094.07-.141.094-.305 0-.141-.094-.117-.094-.211 0-.117.141-.07.117-.211-.023-.117.07-.211.117-.281s.07-.211.141-.305c.047-.094-.047-.305-.047-.352s.164-.094.094-.188c-.094-.07.023-.141.117-.211.07-.07-.023-.258.047-.516.047-.234.07-.656.07-.703s0-.211-.047-.305c-.07-.117-.141-.188-.234-.234s-.211-.164-.281-.188c-.07 0-.398-.117-.398-.328 0-.188-.234-.328-.258-.469s-.211-.422-.234-.563c0-.117-.305-.164-.328-.328-.047-.164.141-.258.164-.352s-.094-.305-.117-.375c0-.047.211-.258.281-.305s.141-.211.188-.211.047-.141.094-.305c.047-.141-.023-.352-.07-.375s-.094-.188-.141-.258c-.07-.047-.188-.023-.188-.023s.023.141-.094.188c-.141.047-.164-.023-.188-.047-.047-.047-.188-.047-.258-.117s-.164-.164-.258-.188c-.07-.047-.211-.07-.188-.234 0-.164-.164-.258-.234-.281-.047-.023-.164-.094-.234-.047-.047.023-.094 0-.141-.023s-.094-.047-.141-.047c-.094 0-.281-.164-.352-.234s-.117-.164-.234-.164-.141.047-.211.141c-.094.094-.211-.07-.234-.117-.047-.047-.141-.047-.281-.047-.164 0-.258-.211-.305-.234l-.516-.258c-.094-.047-.188-.258-.141-.305s-.07-.234-.07-.234-.188-.211-.258-.211-.281-.375-.398-.492-.398-.352-.445-.469-.07-.305-.188-.211c-.141.094-.023.188.117.305s.117.211.305.352.117.305.188.352c.07.07.352.234.234.328-.117.117-.234-.141-.305-.141-.047-.023-.164-.047-.164-.117.023-.07-.094-.141-.188-.258s-.141-.047-.258-.047 0-.141.047-.211c.07-.07-.07-.164-.141-.188s-.188-.328-.305-.516-.188-.281-.305-.258-.164-.141-.258-.188c-.07-.047-.211-.305-.328-.445-.141-.141-.258-.398-.234-.539s.047-.516.047-.609-.07-.328-.07-.352c0-.047-.07-.117-.117-.117-.047-.023-.211-.211-.328-.211s-.188-.141-.164-.234c.047-.094-.117-.258-.164-.258-.07 0-.164-.164-.211-.258s-.141-.094-.117-.047 0 .141.047.164c.07.023.117.234.07.281-.047.023-.188-.094-.305-.141-.141-.07-.07-.328-.07-.398s-.188-.141-.281-.141c-.07 0-.164.023-.164-.164 0-.164-.258-.258-.328-.258-.094 0-.516-.164-.656-.164s-.375-.117-.445-.07-.234-.094-.305-.094-.07.047-.234.141zm11.203 6.703c.117-.023.211.188.047.211h-.023c-.117 0-.141-.211-.023-.234zm1.782-.141c.117-.023.211.164.047.211h-.023c-.117 0-.141-.211-.023-.234zm-.774.164c-.07-.047-.117-.094-.234-.094-.07 0-.234-.023-.234-.023s.234-.211.328-.211c.094-.023.211-.047.305-.023.117.023.281.094.281.281-.023.164-.094.023-.141.023-.023 0-.141.07-.234.07h-.047zm-2.062-.773s.328-.094.398-.094.281 0 .398.094.305.211.398.188.258.141.234.188-.234.047-.305-.023c-.07-.047-.305-.164-.375-.234-.047-.07-.352-.047-.492-.047h-.164c-.07 0-.141-.023-.117-.094zm1.007-.375c.117-.023.211.117.047.141h-.023c-.117 0-.141-.117-.023-.141zm-.375-5.86c.117-.047.164.07.094.117h-.047c-.094 0-.164-.07-.047-.117zm-.515-.093c.094-.094.234 0 .188.047 0 .023-.023.023-.07.023-.07 0-.164-.047-.141-.07zm-2.578-1.711c.07-.023.305-.047.352 0 .07.047.117.234.07.258-.047 0-.023.07-.188.164-.164.07-.211-.164-.234-.211 0-.023-.07-.023-.141 0-.047 0-.094.023-.141.023-.094 0-.141-.141-.07-.188.047-.047.141-.023.211-.023h.141zm.656.094c-.023-.07.258-.188.328-.211s.141.047.234.07c.094 0 .07.141 0 .164-.07 0-.258.023-.375.047h-.047c-.094 0-.141-.047-.141-.047zm-.024-.375c.047-.117.281-.07.305.047.023.047-.047.07-.094.07-.094 0-.234-.047-.211-.094zm-.539-.211c.164-.023.234.07.234.117s-.117.188-.234.164h-.07c-.047 0-.047 0-.094-.07-.047-.094-.328-.047-.375-.047s-.094.164-.164.188-.117-.07-.07-.07c.023-.023-.047-.211.023-.258.047-.047.281-.047.469-.023h.281zm-3.468-.071c.047 0 .398-.117.586-.141s.258.07.281.117.445.07.445.07.211.117.234.141c.047.023.141 0 .188-.047s.07-.117.211-.141.141.117.234.141c.07.023.117 0 .188-.047.094-.047.141.047.141.047s-.047.164-.047.234c0 .047-.094.07-.117.117s-.305 0-.422-.023c-.094-.023-.328-.023-.398 0s-.258.023-.328 0-.07-.141-.141-.188c-.047-.047-.188.07-.258.094s-.188-.117-.164-.188c0-.07-.258-.023-.305 0s-.234.023-.352.023-.211 0-.188-.047c.023-.07.117-.07.188-.07s-.047-.117 0-.117zm4.922.399s-.258-.07-.305-.164c-.07-.094-.305-.094-.422-.141s-.281-.117-.375-.164-.047-.188-.047-.164.188.07.305.094c.234.047.211.047.305.07s.281.164.375.211c.07.047.164.117.258.117h1.102c.07 0 .422.07.398.094s-.047.094-.211.094-.469-.023-.68-.047-.398.023-.398.023l-.281-.023zm-3.61-.586c.164-.047.305-.164.422-.164s.047.188.047.234c.023.047-.117.07-.188.047-.047-.047-.234.023-.305.023s-.094-.094 0-.141zm1.195-.117c.023-.117.141-.094.258-.117.117 0 .281 0 .422.047.164.047.141.047.211.117s.094.188.023.188-.117-.023-.258-.047c-.117-.023-.094-.047-.117-.094s-.258 0-.352 0-.188-.047-.188-.117zM3.234 3.961c.188.023.469.023.516.023s.328.094.492.047.258.023.305.047.07.023.141.094.141.023.234-.047c.094-.047.07-.117.07-.117l.094-.023c.07-.023.141.023.352.047.234.023.164-.047.328-.094a.474.474 0 01.258.023c.047.023.094.047.117.023.047-.023.117-.117.164-.07s.117.164.117.164.164-.141.211-.141.211.047.305.047c.094-.023.445-.023.539.047.07.07.281.047.398.117s.211-.047.164-.07-.188-.141-.188-.141-.211-.234-.234-.281-.07-.047-.117.07-.258.117-.492.117-.07-.117-.328-.117c-.258-.023-.164-.117-.07-.117.07 0 .141-.164.164-.258s.117-.07.305-.07h.422c.094.023.141 0 .188-.023s.094-.047.188-.023c.188.023.094.047.188.117.117.07.164.047.328.117.141.07.094.07.164.07.07.023.281-.023.422-.047s.234-.023.305.047.047.164.141.234-.047-.234-.047-.352.188-.023.305-.023.258-.047.281.023c.023.047-.188.141-.07.258s.211.164.305.164.352.023.234.164-.398.141-.492.141-.258.047-.211.141c.047.07.258.047.398.047s.609.047.727 0 .094-.188-.047-.234-.023-.117.117-.094c.07.023.117 0 .164 0s.094-.023.07 0c-.023.047.023.141.023.234 0 .117.047.164.141.141s.117-.047.211-.047c.094-.023.047-.234-.023-.352-.047-.117-.094-.188-.07-.258 0-.07.164-.07.234-.023.07.07.188.211.188.211s.164.094.211.211.07.07.188.023c.117-.07.141-.047.234.023s.023.211.023.234c0 .047.117 0 .141-.07 0-.094.141-.094.188-.117.07-.023.07-.188.07-.188s-.164-.047-.352-.023c-.164.023-.234-.023-.375-.117s-.047-.164-.117-.258.211-.141.398-.234c.164-.07.328-.023.305.164-.023.211-.047.164.141.141.164-.047-.047-.211.07-.234a2.67 2.67 0 01.398-.047c.094.023.516-.047.633-.047s.281.094.398.164c.141.07.469.164.539.211.094.047.633.117.703.141.047.023.047.188.117.328.047.141.188.047.258.047.047 0 .234.094.281.164s.445.117.445.117-.117.117-.141.164c-.047.047-.164.07-.211.117-.094.047-.164-.023-.281-.07-.094-.07-.281-.117-.328-.094s0 .07.023.117c.047.047.211.094.328.188.141.07.094.164.117.258 0 .117-.094-.047-.234-.07s-.141.117-.141.117-.164-.023-.234-.023c-.094 0 0 0-.164-.117-.07-.07-.117-.023-.141 0s-.023.047-.07.023c-.094-.047-.164-.141-.188-.117s-.07-.023-.117-.047-.094-.07-.141-.047h-.211c-.117 0-.234-.023-.281 0-.07.023-.141.023-.211.047-.094.023-.094-.188-.07-.258.047-.07.141-.07.328-.047.164.047.188 0 .234-.07s.07-.141.258-.188 0-.094-.07-.117c-.047-.023-.117-.07-.164 0s-.141.164-.141.164-.094 0-.258-.023-.047-.07.023-.094c.047-.023.141-.188.07-.234s-.094-.07-.211-.047-.047-.094-.117-.141c-.094-.047-.047.023-.047.07s-.117.047-.117.047-.188-.023-.258 0-.188.07-.141.117.164.047.211.164-.164.141-.211.164c-.047 0-.188.07-.188.07s-.164-.047-.305-.047-.164.023-.141.07.094.023.141.023.047.07.141.047c.117-.023.094-.07.211.047s.211.094.398.188-.023.211-.117.211-.094-.07-.141-.164c-.07-.07-.281.023-.281.023s-.188.094-.281.094-.164-.023-.047-.117-.141-.094-.141-.234-.047.141-.047.211c0 .047-.047.047-.117.023h-.211c-.234.023-.188.117-.492.305-.281.188-.352.234-.328.398s.094.117.211.164c.117.023.07.234.188.211.094-.023.164-.07.352.023s.281.117.516.164.375.117.492.07c.141-.023.188 0 .188.117 0 .094.094.117.07.234 0 .117.141-.117.141-.117s.07.211.023.234c-.07.023.023.141.07.141h.07c.047 0 .117.023.164-.023.07-.07-.047-.258-.047-.352 0-.07-.07-.117-.117-.211-.047-.07.094-.094.164-.023.047.07.141.023.234-.047s.094-.188.094-.188-.164-.211-.281-.258-.047-.07.07-.094 0-.07.023-.211c.047-.141.047-.234.117-.234.047 0 .305-.047.492-.023s.305.164.422.164c.141 0 .352.047.398.117s-.164.07-.047.188c.094.117.094.094.188.141s.211.023.328-.141c.094-.164.164-.164.211-.117.047.023.305.328.375.398s.188.211.211.281.188.07.258.07c.047 0 .258.141.281.234 0 .094.047.117.234.141.188.047 0 .188-.023.281-.047.07-.047.117-.117.211-.023.047-.023.047 0 .047s.047-.023.07 0c.07.047.094.094.188.07s.141 0 .188.094c.047.07.117.141.141.211s0 .164-.07.117c-.07-.07-.234-.023-.234-.023s-.094.07-.117.047c-.023-.047-.07-.094-.188-.07a.204.204 0 01-.164 0h-.117c-.094.023-.141-.047-.07-.117.07-.047.07-.258.211-.328s.094-.211 0-.211-.141.117-.188.141c-.07.023-.141.023-.258.094-.094.07-.352.047-.234.07.094.023-.164.141-.211.141-.094 0-.07-.164-.07-.234s-.117.047-.117.047-.211-.117-.281-.047-.188.117-.305.211c-.094.07-.328.211-.328.211s.094-.047.234-.07c.164-.047.141-.023.281-.094s.258-.094.375.023c.094.117-.023.188-.023.188s.047.094.117.117c.047.023.047-.023.141-.07s.047.117.07.164c.047.047.117.047.188 0 .07-.07.094-.117.141-.07s.07.141.117.234-.258.117-.328.141c-.07 0-.305.07-.352.07-.047.023-.164.141-.281.141s-.094-.164-.117-.258c0-.094-.117.023-.141.047-.023.047-.141.023-.234.047-.094 0-.258.094-.258.211s.094.164.07.211-.258.094-.352.07-.234.047-.188.094.047.141-.07.117c-.094 0-.094.094-.07.164.047.07-.117.211-.141.141-.047-.047-.117-.07-.117 0s.023.141.117.258c.07.117-.164.164-.281.258-.094.07-.398.352-.539.398s-.141.234-.07.305c.094.07.141.352.188.445s-.023.352-.141.352c-.117-.023-.07-.164-.188-.211s-.188-.281-.211-.445c-.047-.164-.07-.07-.141-.023-.094.047-.164-.117-.188-.141s-.117 0-.211 0c-.07 0-.164.023-.234.023-.164-.023-.211.07-.211.094 0 .047-.023.164-.188.07-.141-.07-.164-.07-.328-.07-.141 0-.281 0-.305.047s-.164.164-.258.188-.281.164-.188.188c.07.023.07.211.023.328s-.047.305-.023.492.188.305.328.422.211.164.352.047.211-.047.234-.023c.047.023.141-.07.117-.188-.047-.117.047-.234.188-.211.047 0 .117 0 .188-.023.07 0 .141-.023.188-.023.117 0 .141.258 0 .375-.164.117-.07.281-.094.398s-.141.141 0 .141.094.023.188.047.164-.07.281-.094c.094 0 .328.211.281.305a.983.983 0 00-.07.469c.047.164.07.164.117.234.023.047.141.164.258.117s.234-.094.281-.141.305.094.281.141c-.023.023.094.07.164.023.094-.023.117-.094.188-.211a.672.672 0 01.281-.211c.047 0 .211-.164.328-.141.094.023-.047.164-.047.234 0 .094 0 .305.047.328.07 0 .047-.164.117-.281.07-.141.211-.188.281-.188s.117.258.211.211c.094-.07.281-.047.328.023.023.07.07.117.07.117s.07-.047.07-.117c0-.094.211-.141.352-.07s.094.094.164.117c.07 0 .141-.164.164-.188.047-.023 0 .211-.094.328-.117.094.07.07.094.117.023.023.047.023.094 0 .047 0 .117 0 .141.023.047.047.164.094.234.258.094.117.211.094.375.07s.375.07.539.258c.164.164.117.305.234.305s.141.141.141.188-.234.164-.352.188c-.141 0-.141.141.07.117.211-.047.117-.117.258-.141.141-.047.258.047.164.211-.141.164-.375.164-.164.188s.094-.047.211-.188c.117-.164.117-.117.188-.117.094 0 .258.047.328.094s.234.141.352.188c.117.07.258.047.328.023s.328.07.398.188c.07.094.258.117.375.164.094.047.234.188.234.328.023.141-.141.422-.141.492-.023.047-.234.305-.422.469s-.07.352-.07.422c.023.07-.141.375-.094.445s-.047.211-.141.328c-.094.094-.141.258-.188.352-.07.094-.234.07-.398.117-.164.023-.234.07-.234.07s-.305.117-.445.234c-.164.117.047.305-.023.445s-.164.141-.234.305c-.047.117-.094.094-.117.07-.023 0-.047-.023-.07 0-.07.047-.117.141-.117.258-.023.094-.141.211-.328.375-.164.164-.281.141-.469.07-.188-.047-.164-.516-.188-.445s-.023.305.023.352c.023.047.117.211.164.234.07.047.047.117 0 .164-.047.07-.211.305-.258.328s-.469.07-.563.023c-.07-.047-.117.094-.117.188.023.094.094.164-.07.141s-.352-.117-.352-.047.047.211.117.211.164-.047.117.047-.141.164-.211.211c-.047.047-.117.164-.258.258s-.141.141-.117.188.234.023.281.047-.047.211-.094.258-.281.234-.375.281-.094.211-.047.328c4.453-1.406 7.781-5.344 8.273-10.125-.117-.094-.047-.211-.07-.328-.023-.141-.164-.188-.094-.211s.047-.094.234-.281c0-.141.023-.281.023-.422v-.094c-.047-.094-.117-.258-.023-.422a11.765 11.765 0 00-2.766-7.125 5.65 5.65 0 01-.398.047c-.094 0-.234.211-.258.258s-.328 0-.422 0-.188.117-.375.141c-.164.023-.094.141-.07.234 0 .094-.047.141-.141.117-.117-.023-.094.047-.117.117s.023.188-.094.281c-.094.07-.141.117-.258.094-.117 0-.117-.211-.141-.188-.047 0-.234.141-.281.07s-.281-.234-.375-.258c-.094-.047-.164-.188-.188-.258-.047-.07.117-.07.07-.07-.047-.023-.211-.047-.258-.094s-.141-.258-.164-.328c0-.07.141-.164.141-.211 0-.023-.141-.023-.188-.023s-.117-.141-.047-.281.211-.094.211-.094h.117c.07 0 .047.164.023.234s.047.07.094.094.07-.07.07-.117c0-.07-.117-.211-.188-.281-.047-.07-.234-.094-.258-.047s-.164.234-.211.188-.047-.445-.117-.563-.328-.141-.445-.211c-.094-.047-.492-.117-.563-.117-.023 0-.094 0-.141.023a.482.482 0 01-.258 0c-.094-.023-.094-.211-.094-.211s-.07.188-.094.234c-.047.047-.141.07-.188.047s-.164-.234-.281-.258h-.117c-.047 0-.094 0-.164-.047-.141-.117.258-.094.281-.094s.328-.07.352-.141c0-.094.094-.188.234-.141.141.023.211-.094.188-.211s.258-.234.305-.164c.047.047.281 0 .211-.117s.281-.211.609-.234.422.023.492.07.281.047.398-.023A11.889 11.889 0 0011.992.304c-3.469 0-6.586 1.5-8.766 3.867z\"></path></svg><span class=\"LanguageSelector--LanguageSelectorStatus--2KFS4\" data-testid=\"languageSelectorStatus\">GB</span><span class=\"LanguageSelector--unitDisplay--mr3Rx\">°C</span><svg class=\"LanguageSelector--arrowIcon--3LCpZ Icon--icon--2aW0V Icon--lightTheme--2Ktm2\" data-testid=\"Icon\" name=\"triangle-down\" set=\"ui\" style=\"width:17px\" theme=\"light\" viewbox=\"0 0 24 24\"><title>Arrow down</title><path d=\"M23.765 5.167h-23.53l11.75 13.666 11.779-13.666z\"></path></svg></div></button><nav aria-hidden=\"true\" class=\"ExpandableMenu--ExpandableMenu--Pypws ExpandableMenu--fullWidth--3P3CC LanguageSelector--LanguageSelectorMenu--2IMB_\" hidden=\"\" tabindex=\"-1\"><div class=\"ExpandableMenu--inner--2uvB2 ExpandableMenu--bottomRoundBorder--3Ldnl ExpandableMenu--outline--1VE2r ExpandableMenu--fullWidthInner--31Eez\"><div class=\"ExpandableMenu--innerPadding--3Jjjq\"><section class=\"UnitSelector--UnitSelector--1LJgw LanguageSelector--unitSelectorContainer--1Pi4i\" data-testid=\"unitSelectorSection\"><div class=\"UnitSelector--TabListWrapper--3CcS1 LanguageSelector--unitSelectorWrapper--1d3Zl\"><ul aria-labelledby=\"UnitSelectorTabsLabel\" class=\"UnitSelector--UnitSelectorTabList--1y22S\" data-testid=\"unitSelectorBar\" id=\"UnitSelectorTabs\" role=\"tablist\"><li aria-controls=\"UnitSelectorTabs-tabpanel_0\" aria-selected=\"false\" class=\"UnitSelector--UnitSelectorInactiveTab--3dgsa TabList--tab--1Pv2J UnitSelector--UnitSelectorInactiveTab--3dgsa\" data-testid=\"degreesFbutton\" id=\"UnitSelectorTabs-tab_0\" role=\"tab\" tabindex=\"0\">°F</li><li aria-controls=\"UnitSelectorTabs-tabpanel_1\" aria-selected=\"false\" class=\"UnitSelector--UnitSelectorInactiveTab--3dgsa TabList--tab--1Pv2J UnitSelector--UnitSelectorInactiveTab--3dgsa\" data-testid=\"degreesCbutton\" id=\"UnitSelectorTabs-tab_1\" role=\"tab\" tabindex=\"0\">°C</li><li aria-controls=\"UnitSelectorTabs-tabpanel_2\" aria-selected=\"true\" class=\"UnitSelector--UnitSelectorInactiveTab--3dgsa TabList--tab--1Pv2J UnitSelector--UnitSelectorActiveTab--1q2d_ undefined TabList--tabSelected--3Vj3p\" data-testid=\"hybridButton\" id=\"UnitSelectorTabs-tab_2\" role=\"tab\" selected=\"\" tabindex=\"0\">Hybrid</li></ul><div aria-hidden=\"true\" aria-labelledby=\"UnitSelectorTabs-tab_0\" hidden=\"\" id=\"UnitSelectorTabs-tabpanel_0\" role=\"tabpanel\" theme=\"tabs\"></div><div aria-hidden=\"true\" aria-labelledby=\"UnitSelectorTabs-tab_1\" hidden=\"\" id=\"UnitSelectorTabs-tabpanel_1\" role=\"tabpanel\" theme=\"tabs\"></div><div aria-hidden=\"false\" aria-labelledby=\"UnitSelectorTabs-tab_2\" id=\"UnitSelectorTabs-tabpanel_2\" role=\"tabpanel\" theme=\"tabs\"><div class=\"UnitSelector--UnitSelectorPanel--Lz6vT\" data-testid=\"hybridUnits\">C / millimetres / miles / mph / millibars</div></div></div></section><div class=\"CountryList--languageSection--kIBuD\" data-testid=\"LanguageSection\"><details class=\"LanguageSelector--LanguageSection--3utVS Disclosure--themeList--1Dz21\"><summary class=\"Disclosure--Summary--3GiL4 CountryList--Summary--2kBQb LanguageSelector--Summary--3PVwW\"><div class=\"Disclosure--SummaryDefault--2XBO9\">Americas<svg class=\"Disclosure--SummaryIcon--m5hw- Icon--icon--2aW0V\" data-testid=\"Icon\" name=\"caret-down\" set=\"ui\" theme=\"\" viewbox=\"0 0 24 24\"><title>Arrow Down</title><path d=\"M12 16.086l7.293-7.293a1 1 0 1 1 1.414 1.414l-8 8a1 1 0 0 1-1.414 0l-8-8a1 1 0 1 1 1.414-1.414L12 16.086z\"></path></svg></div></summary><div class=\"LanguageSelector--Content--3m5XM\"><div class=\"CountryList--listContainer--1x98G LanguageSelector--RegionBlock--27Fsw\"><a class=\"ListItem--listItem--25ojW ListItem--disableBorder--2gz4h CountryList--DisclosureLink--319na LanguageSelector--RegionLink--3ELcN Button--default--2gfm1\" href=\"/en-AG/weather/hourbyhour/l/1d31d60911d710f15ce8f3e783b002c5c5e206880716fc0ad69a5bc3cf1400c9\" target=\"_self\">Antigua and Barbuda | English</a><a class=\"ListItem--listItem--25ojW ListItem--disableBorder--2gz4h CountryList--DisclosureLink--319na LanguageSelector--RegionLink--3ELcN Button--default--2gfm1\" href=\"/es-AR/tiempo/horario/l/1d31d60911d710f15ce8f3e783b002c5c5e206880716fc0ad69a5bc3cf1400c9\" target=\"_self\">Argentina | Español</a><a class=\"ListItem--listItem--25ojW ListItem--disableBorder--2gz4h CountryList--DisclosureLink--319na LanguageSelector--RegionLink--3ELcN Button--default--2gfm1\" href=\"/en-BS/weather/hourbyhour/l/1d31d60911d710f15ce8f3e783b002c5c5e206880716fc0ad69a5bc3cf1400c9\" target=\"_self\">Bahamas | English</a><a class=\"ListItem--listItem--25ojW ListItem--disableBorder--2gz4h CountryList--DisclosureLink--319na LanguageSelector--RegionLink--3ELcN Button--default--2gfm1\" href=\"/en-BB/weather/hourbyhour/l/1d31d60911d710f15ce8f3e783b002c5c5e206880716fc0ad69a5bc3cf1400c9\" target=\"_self\">Barbados | English</a><a class=\"ListItem--listItem--25ojW ListItem--disableBorder--2gz4h CountryList--DisclosureLink--319na LanguageSelector--RegionLink--3ELcN Button--default--2gfm1\" href=\"/en-BZ/weather/hourbyhour/l/1d31d60911d710f15ce8f3e783b002c5c5e206880716fc0ad69a5bc3cf1400c9\" target=\"_self\">Belize | English</a><a class=\"ListItem--listItem--25ojW ListItem--disableBorder--2gz4h CountryList--DisclosureLink--319na LanguageSelector--RegionLink--3ELcN Button--default--2gfm1\" href=\"/es-BO/tiempo/horario/l/1d31d60911d710f15ce8f3e783b002c5c5e206880716fc0ad69a5bc3cf1400c9\" target=\"_self\">Bolivia | Español</a><a class=\"ListItem--listItem--25ojW ListItem--disableBorder--2gz4h CountryList--DisclosureLink--319na LanguageSelector--RegionLink--3ELcN Button--default--2gfm1\" href=\"/pt-BR/clima/horaria/l/1d31d60911d710f15ce8f3e783b002c5c5e206880716fc0ad69a5bc3cf1400c9\" target=\"_self\">Brazil | Português</a><a class=\"ListItem--listItem--25ojW ListItem--disableBorder--2gz4h CountryList--DisclosureLink--319na LanguageSelector--RegionLink--3ELcN Button--default--2gfm1\" href=\"/en-CA/weather/hourbyhour/l/1d31d60911d710f15ce8f3e783b002c5c5e206880716fc0ad69a5bc3cf1400c9\" target=\"_self\">Canada | English</a><a class=\"ListItem--listItem--25ojW ListItem--disableBorder--2gz4h CountryList--DisclosureLink--319na LanguageSelector--RegionLink--3ELcN Button--default--2gfm1\" href=\"/fr-CA/temps/parheure/l/1d31d60911d710f15ce8f3e783b002c5c5e206880716fc0ad69a5bc3cf1400c9\" target=\"_self\">Canada | Français</a><a class=\"ListItem--listItem--25ojW ListItem--disableBorder--2gz4h CountryList--DisclosureLink--319na LanguageSelector--RegionLink--3ELcN Button--default--2gfm1\" href=\"/es-CL/tiempo/horario/l/1d31d60911d710f15ce8f3e783b002c5c5e206880716fc0ad69a5bc3cf1400c9\" target=\"_self\">Chile | Español</a><a class=\"ListItem--listItem--25ojW ListItem--disableBorder--2gz4h CountryList--DisclosureLink--319na LanguageSelector--RegionLink--3ELcN Button--default--2gfm1\" href=\"/es-CO/tiempo/horario/l/1d31d60911d710f15ce8f3e783b002c5c5e206880716fc0ad69a5bc3cf1400c9\" target=\"_self\">Colombia | Español</a><a class=\"ListItem--listItem--25ojW ListItem--disableBorder--2gz4h CountryList--DisclosureLink--319na LanguageSelector--RegionLink--3ELcN Button--default--2gfm1\" href=\"/es-CR/tiempo/horario/l/1d31d60911d710f15ce8f3e783b002c5c5e206880716fc0ad69a5bc3cf1400c9\" target=\"_self\">Costa Rica | Español</a><a class=\"ListItem--listItem--25ojW ListItem--disableBorder--2gz4h CountryList--DisclosureLink--319na LanguageSelector--RegionLink--3ELcN Button--default--2gfm1\" href=\"/en-DM/weather/hourbyhour/l/1d31d60911d710f15ce8f3e783b002c5c5e206880716fc0ad69a5bc3cf1400c9\" target=\"_self\">Dominica | English</a><a class=\"ListItem--listItem--25ojW ListItem--disableBorder--2gz4h CountryList--DisclosureLink--319na LanguageSelector--RegionLink--3ELcN Button--default--2gfm1\" href=\"/es-DO/tiempo/horario/l/1d31d60911d710f15ce8f3e783b002c5c5e206880716fc0ad69a5bc3cf1400c9\" target=\"_self\">Dominican Republic | Español</a><a class=\"ListItem--listItem--25ojW ListItem--disableBorder--2gz4h CountryList--DisclosureLink--319na LanguageSelector--RegionLink--3ELcN Button--default--2gfm1\" href=\"/es-EC/tiempo/horario/l/1d31d60911d710f15ce8f3e783b002c5c5e206880716fc0ad69a5bc3cf1400c9\" target=\"_self\">Ecuador | Español</a><a class=\"ListItem--listItem--25ojW ListItem--disableBorder--2gz4h CountryList--DisclosureLink--319na LanguageSelector--RegionLink--3ELcN Button--default--2gfm1\" href=\"/es-SV/tiempo/horario/l/1d31d60911d710f15ce8f3e783b002c5c5e206880716fc0ad69a5bc3cf1400c9\" target=\"_self\">El Salvador | Español</a><a class=\"ListItem--listItem--25ojW ListItem--disableBorder--2gz4h CountryList--DisclosureLink--319na LanguageSelector--RegionLink--3ELcN Button--default--2gfm1\" href=\"/en-GD/weather/hourbyhour/l/1d31d60911d710f15ce8f3e783b002c5c5e206880716fc0ad69a5bc3cf1400c9\" target=\"_self\">Grenada | English</a><a class=\"ListItem--listItem--25ojW ListItem--disableBorder--2gz4h CountryList--DisclosureLink--319na LanguageSelector--RegionLink--3ELcN Button--default--2gfm1\" href=\"/es-GT/tiempo/horario/l/1d31d60911d710f15ce8f3e783b002c5c5e206880716fc0ad69a5bc3cf1400c9\" target=\"_self\">Guatemala | Español</a><a class=\"ListItem--listItem--25ojW ListItem--disableBorder--2gz4h CountryList--DisclosureLink--319na LanguageSelector--RegionLink--3ELcN Button--default--2gfm1\" href=\"/en-GY/weather/hourbyhour/l/1d31d60911d710f15ce8f3e783b002c5c5e206880716fc0ad69a5bc3cf1400c9\" target=\"_self\">Guyana | English</a><a class=\"ListItem--listItem--25ojW ListItem--disableBorder--2gz4h CountryList--DisclosureLink--319na LanguageSelector--RegionLink--3ELcN Button--default--2gfm1\" href=\"/fr-HT/temps/parheure/l/1d31d60911d710f15ce8f3e783b002c5c5e206880716fc0ad69a5bc3cf1400c9\" target=\"_self\">Haiti | Français</a><a class=\"ListItem--listItem--25ojW ListItem--disableBorder--2gz4h CountryList--DisclosureLink--319na LanguageSelector--RegionLink--3ELcN Button--default--2gfm1\" href=\"/es-HN/tiempo/horario/l/1d31d60911d710f15ce8f3e783b002c5c5e206880716fc0ad69a5bc3cf1400c9\" target=\"_self\">Honduras | Español</a><a class=\"ListItem--listItem--25ojW ListItem--disableBorder--2gz4h CountryList--DisclosureLink--319na LanguageSelector--RegionLink--3ELcN Button--default--2gfm1\" href=\"/en-JM/weather/hourbyhour/l/1d31d60911d710f15ce8f3e783b002c5c5e206880716fc0ad69a5bc3cf1400c9\" target=\"_self\">Jamaica | English</a><a class=\"ListItem--listItem--25ojW ListItem--disableBorder--2gz4h CountryList--DisclosureLink--319na LanguageSelector--RegionLink--3ELcN Button--default--2gfm1\" href=\"/es-MX/tiempo/horario/l/1d31d60911d710f15ce8f3e783b002c5c5e206880716fc0ad69a5bc3cf1400c9\" target=\"_self\">Mexico | Español</a><a class=\"ListItem--listItem--25ojW ListItem--disableBorder--2gz4h CountryList--DisclosureLink--319na LanguageSelector--RegionLink--3ELcN Button--default--2gfm1\" href=\"/es-NI/tiempo/horario/l/1d31d60911d710f15ce8f3e783b002c5c5e206880716fc0ad69a5bc3cf1400c9\" target=\"_self\">Nicaragua | Español</a><a class=\"ListItem--listItem--25ojW ListItem--disableBorder--2gz4h CountryList--DisclosureLink--319na LanguageSelector--RegionLink--3ELcN Button--default--2gfm1\" href=\"/es-PA/tiempo/horario/l/1d31d60911d710f15ce8f3e783b002c5c5e206880716fc0ad69a5bc3cf1400c9\" target=\"_self\">Panama | Español</a><a class=\"ListItem--listItem--25ojW ListItem--disableBorder--2gz4h CountryList--DisclosureLink--319na LanguageSelector--RegionLink--3ELcN Button--default--2gfm1\" href=\"/en-PA/weather/hourbyhour/l/1d31d60911d710f15ce8f3e783b002c5c5e206880716fc0ad69a5bc3cf1400c9\" target=\"_self\">Panama | English</a><a class=\"ListItem--listItem--25ojW ListItem--disableBorder--2gz4h CountryList--DisclosureLink--319na LanguageSelector--RegionLink--3ELcN Button--default--2gfm1\" href=\"/es-PY/tiempo/horario/l/1d31d60911d710f15ce8f3e783b002c5c5e206880716fc0ad69a5bc3cf1400c9\" target=\"_self\">Paraguay | Español</a><a class=\"ListItem--listItem--25ojW ListItem--disableBorder--2gz4h CountryList--DisclosureLink--319na LanguageSelector--RegionLink--3ELcN Button--default--2gfm1\" href=\"/es-PE/tiempo/horario/l/1d31d60911d710f15ce8f3e783b002c5c5e206880716fc0ad69a5bc3cf1400c9\" target=\"_self\">Peru | Español</a><a class=\"ListItem--listItem--25ojW ListItem--disableBorder--2gz4h CountryList--DisclosureLink--319na LanguageSelector--RegionLink--3ELcN Button--default--2gfm1\" href=\"/en-KN/weather/hourbyhour/l/1d31d60911d710f15ce8f3e783b002c5c5e206880716fc0ad69a5bc3cf1400c9\" target=\"_self\">St. Kitts and Nevis | English</a><a class=\"ListItem--listItem--25ojW ListItem--disableBorder--2gz4h CountryList--DisclosureLink--319na LanguageSelector--RegionLink--3ELcN Button--default--2gfm1\" href=\"/en-LC/weather/hourbyhour/l/1d31d60911d710f15ce8f3e783b002c5c5e206880716fc0ad69a5bc3cf1400c9\" target=\"_self\">St. Lucia | English</a><a class=\"ListItem--listItem--25ojW ListItem--disableBorder--2gz4h CountryList--DisclosureLink--319na LanguageSelector--RegionLink--3ELcN Button--default--2gfm1\" href=\"/en-VC/weather/hourbyhour/l/1d31d60911d710f15ce8f3e783b002c5c5e206880716fc0ad69a5bc3cf1400c9\" target=\"_self\">St. Vincent and the Grenadines | English</a><a class=\"ListItem--listItem--25ojW ListItem--disableBorder--2gz4h CountryList--DisclosureLink--319na LanguageSelector--RegionLink--3ELcN Button--default--2gfm1\" href=\"/nl-SR/weer/elkuur/l/1d31d60911d710f15ce8f3e783b002c5c5e206880716fc0ad69a5bc3cf1400c9\" target=\"_self\">Suriname | Nederlands</a><a class=\"ListItem--listItem--25ojW ListItem--disableBorder--2gz4h CountryList--DisclosureLink--319na LanguageSelector--RegionLink--3ELcN Button--default--2gfm1\" href=\"/en-TT/weather/hourbyhour/l/1d31d60911d710f15ce8f3e783b002c5c5e206880716fc0ad69a5bc3cf1400c9\" target=\"_self\">Trinidad and Tobago | English</a><a class=\"ListItem--listItem--25ojW ListItem--disableBorder--2gz4h CountryList--DisclosureLink--319na LanguageSelector--RegionLink--3ELcN Button--default--2gfm1\" href=\"/es-UY/tiempo/horario/l/1d31d60911d710f15ce8f3e783b002c5c5e206880716fc0ad69a5bc3cf1400c9\" target=\"_self\">Uruguay | Español</a><a class=\"ListItem--listItem--25ojW ListItem--disableBorder--2gz4h CountryList--DisclosureLink--319na LanguageSelector--RegionLink--3ELcN Button--default--2gfm1\" href=\"/weather/hourbyhour/l/1d31d60911d710f15ce8f3e783b002c5c5e206880716fc0ad69a5bc3cf1400c9\" target=\"_self\">United States | English</a><a class=\"ListItem--listItem--25ojW ListItem--disableBorder--2gz4h CountryList--DisclosureLink--319na LanguageSelector--RegionLink--3ELcN Button--default--2gfm1\" href=\"/es-US/tiempo/horario/l/1d31d60911d710f15ce8f3e783b002c5c5e206880716fc0ad69a5bc3cf1400c9\" target=\"_self\">United States | Español</a><a class=\"ListItem--listItem--25ojW ListItem--disableBorder--2gz4h CountryList--DisclosureLink--319na LanguageSelector--RegionLink--3ELcN Button--default--2gfm1\" href=\"/es-VE/tiempo/horario/l/1d31d60911d710f15ce8f3e783b002c5c5e206880716fc0ad69a5bc3cf1400c9\" target=\"_self\">Venezuela | Español</a></div></div></details><details class=\"LanguageSelector--LanguageSection--3utVS Disclosure--themeList--1Dz21\"><summary class=\"Disclosure--Summary--3GiL4 CountryList--Summary--2kBQb LanguageSelector--Summary--3PVwW\"><div class=\"Disclosure--SummaryDefault--2XBO9\">Africa<svg class=\"Disclosure--SummaryIcon--m5hw- Icon--icon--2aW0V\" data-testid=\"Icon\" name=\"caret-down\" set=\"ui\" theme=\"\" viewbox=\"0 0 24 24\"><title>Arrow Down</title><path d=\"M12 16.086l7.293-7.293a1 1 0 1 1 1.414 1.414l-8 8a1 1 0 0 1-1.414 0l-8-8a1 1 0 1 1 1.414-1.414L12 16.086z\"></path></svg></div></summary><div class=\"LanguageSelector--Content--3m5XM\"><div class=\"CountryList--listContainer--1x98G LanguageSelector--RegionBlock--27Fsw\"><a class=\"ListItem--listItem--25ojW ListItem--disableBorder--2gz4h CountryList--DisclosureLink--319na LanguageSelector--RegionLink--3ELcN Button--default--2gfm1\" href=\"/ar-DZ/weather/hourbyhour/l/1d31d60911d710f15ce8f3e783b002c5c5e206880716fc0ad69a5bc3cf1400c9\" target=\"_self\">Algeria | العربية</a><a class=\"ListItem--listItem--25ojW ListItem--disableBorder--2gz4h CountryList--DisclosureLink--319na LanguageSelector--RegionLink--3ELcN Button--default--2gfm1\" href=\"/fr-DZ/temps/parheure/l/1d31d60911d710f15ce8f3e783b002c5c5e206880716fc0ad69a5bc3cf1400c9\" target=\"_self\">Algeria | Français</a><a class=\"ListItem--listItem--25ojW ListItem--disableBorder--2gz4h CountryList--DisclosureLink--319na LanguageSelector--RegionLink--3ELcN Button--default--2gfm1\" href=\"/pt-AO/clima/horaria/l/1d31d60911d710f15ce8f3e783b002c5c5e206880716fc0ad69a5bc3cf1400c9\" target=\"_self\">Angola | Português</a><a class=\"ListItem--listItem--25ojW ListItem--disableBorder--2gz4h CountryList--DisclosureLink--319na LanguageSelector--RegionLink--3ELcN Button--default--2gfm1\" href=\"/fr-BJ/temps/parheure/l/1d31d60911d710f15ce8f3e783b002c5c5e206880716fc0ad69a5bc3cf1400c9\" target=\"_self\">Benin | Français</a><a class=\"ListItem--listItem--25ojW ListItem--disableBorder--2gz4h CountryList--DisclosureLink--319na LanguageSelector--RegionLink--3ELcN Button--default--2gfm1\" href=\"/fr-BF/temps/parheure/l/1d31d60911d710f15ce8f3e783b002c5c5e206880716fc0ad69a5bc3cf1400c9\" target=\"_self\">Burkina Faso | Français</a><a class=\"ListItem--listItem--25ojW ListItem--disableBorder--2gz4h CountryList--DisclosureLink--319na LanguageSelector--RegionLink--3ELcN Button--default--2gfm1\" href=\"/fr-BI/temps/parheure/l/1d31d60911d710f15ce8f3e783b002c5c5e206880716fc0ad69a5bc3cf1400c9\" target=\"_self\">Burundi | Français</a><a class=\"ListItem--listItem--25ojW ListItem--disableBorder--2gz4h CountryList--DisclosureLink--319na LanguageSelector--RegionLink--3ELcN Button--default--2gfm1\" href=\"/fr-CM/temps/parheure/l/1d31d60911d710f15ce8f3e783b002c5c5e206880716fc0ad69a5bc3cf1400c9\" target=\"_self\">Cameroon | Français</a><a class=\"ListItem--listItem--25ojW ListItem--disableBorder--2gz4h CountryList--DisclosureLink--319na LanguageSelector--RegionLink--3ELcN Button--default--2gfm1\" href=\"/en-CM/weather/hourbyhour/l/1d31d60911d710f15ce8f3e783b002c5c5e206880716fc0ad69a5bc3cf1400c9\" target=\"_self\">Cameroon | English</a><a class=\"ListItem--listItem--25ojW ListItem--disableBorder--2gz4h CountryList--DisclosureLink--319na LanguageSelector--RegionLink--3ELcN Button--default--2gfm1\" href=\"/pt-CV/clima/horaria/l/1d31d60911d710f15ce8f3e783b002c5c5e206880716fc0ad69a5bc3cf1400c9\" target=\"_self\">Cape Verde | Português</a><a class=\"ListItem--listItem--25ojW ListItem--disableBorder--2gz4h CountryList--DisclosureLink--319na LanguageSelector--RegionLink--3ELcN Button--default--2gfm1\" href=\"/fr-CF/temps/parheure/l/1d31d60911d710f15ce8f3e783b002c5c5e206880716fc0ad69a5bc3cf1400c9\" target=\"_self\">Central African Republic | Français</a><a class=\"ListItem--listItem--25ojW ListItem--disableBorder--2gz4h CountryList--DisclosureLink--319na LanguageSelector--RegionLink--3ELcN Button--default--2gfm1\" href=\"/fr-TD/temps/parheure/l/1d31d60911d710f15ce8f3e783b002c5c5e206880716fc0ad69a5bc3cf1400c9\" target=\"_self\">Chad | Français</a><a class=\"ListItem--listItem--25ojW ListItem--disableBorder--2gz4h CountryList--DisclosureLink--319na LanguageSelector--RegionLink--3ELcN Button--default--2gfm1\" href=\"/ar-TD/weather/hourbyhour/l/1d31d60911d710f15ce8f3e783b002c5c5e206880716fc0ad69a5bc3cf1400c9\" target=\"_self\">Chad | العربية</a><a class=\"ListItem--listItem--25ojW ListItem--disableBorder--2gz4h CountryList--DisclosureLink--319na LanguageSelector--RegionLink--3ELcN Button--default--2gfm1\" href=\"/fr-KM/temps/parheure/l/1d31d60911d710f15ce8f3e783b002c5c5e206880716fc0ad69a5bc3cf1400c9\" target=\"_self\">Comoros | Français</a><a class=\"ListItem--listItem--25ojW ListItem--disableBorder--2gz4h CountryList--DisclosureLink--319na LanguageSelector--RegionLink--3ELcN Button--default--2gfm1\" href=\"/ar-KM/weather/hourbyhour/l/1d31d60911d710f15ce8f3e783b002c5c5e206880716fc0ad69a5bc3cf1400c9\" target=\"_self\">Comoros | العربية</a><a class=\"ListItem--listItem--25ojW ListItem--disableBorder--2gz4h CountryList--DisclosureLink--319na LanguageSelector--RegionLink--3ELcN Button--default--2gfm1\" href=\"/fr-CD/temps/parheure/l/1d31d60911d710f15ce8f3e783b002c5c5e206880716fc0ad69a5bc3cf1400c9\" target=\"_self\">Democratic Republic of the Congo | Français</a><a class=\"ListItem--listItem--25ojW ListItem--disableBorder--2gz4h CountryList--DisclosureLink--319na LanguageSelector--RegionLink--3ELcN Button--default--2gfm1\" href=\"/fr-CG/temps/parheure/l/1d31d60911d710f15ce8f3e783b002c5c5e206880716fc0ad69a5bc3cf1400c9\" target=\"_self\">Republic of Congo | Français</a><a class=\"ListItem--listItem--25ojW ListItem--disableBorder--2gz4h CountryList--DisclosureLink--319na LanguageSelector--RegionLink--3ELcN Button--default--2gfm1\" href=\"/fr-CI/temps/parheure/l/1d31d60911d710f15ce8f3e783b002c5c5e206880716fc0ad69a5bc3cf1400c9\" target=\"_self\">Côte d'Ivoire | Français</a><a class=\"ListItem--listItem--25ojW ListItem--disableBorder--2gz4h CountryList--DisclosureLink--319na LanguageSelector--RegionLink--3ELcN Button--default--2gfm1\" href=\"/fr-DJ/temps/parheure/l/1d31d60911d710f15ce8f3e783b002c5c5e206880716fc0ad69a5bc3cf1400c9\" target=\"_self\">Djibouti | Français</a><a class=\"ListItem--listItem--25ojW ListItem--disableBorder--2gz4h CountryList--DisclosureLink--319na LanguageSelector--RegionLink--3ELcN Button--default--2gfm1\" href=\"/ar-DJ/weather/hourbyhour/l/1d31d60911d710f15ce8f3e783b002c5c5e206880716fc0ad69a5bc3cf1400c9\" target=\"_self\">Djibouti | العربية</a><a class=\"ListItem--listItem--25ojW ListItem--disableBorder--2gz4h CountryList--DisclosureLink--319na LanguageSelector--RegionLink--3ELcN Button--default--2gfm1\" href=\"/ar-EG/weather/hourbyhour/l/1d31d60911d710f15ce8f3e783b002c5c5e206880716fc0ad69a5bc3cf1400c9\" target=\"_self\">Egypt | العربية</a><a class=\"ListItem--listItem--25ojW ListItem--disableBorder--2gz4h CountryList--DisclosureLink--319na LanguageSelector--RegionLink--3ELcN Button--default--2gfm1\" href=\"/es-GQ/tiempo/horario/l/1d31d60911d710f15ce8f3e783b002c5c5e206880716fc0ad69a5bc3cf1400c9\" target=\"_self\">Equatorial Guinea | Español</a><a class=\"ListItem--listItem--25ojW ListItem--disableBorder--2gz4h CountryList--DisclosureLink--319na LanguageSelector--RegionLink--3ELcN Button--default--2gfm1\" href=\"/ar-ER/weather/hourbyhour/l/1d31d60911d710f15ce8f3e783b002c5c5e206880716fc0ad69a5bc3cf1400c9\" target=\"_self\">Eritrea | العربية</a><a class=\"ListItem--listItem--25ojW ListItem--disableBorder--2gz4h CountryList--DisclosureLink--319na LanguageSelector--RegionLink--3ELcN Button--default--2gfm1\" href=\"/fr-GA/temps/parheure/l/1d31d60911d710f15ce8f3e783b002c5c5e206880716fc0ad69a5bc3cf1400c9\" target=\"_self\">Gabon | Français</a><a class=\"ListItem--listItem--25ojW ListItem--disableBorder--2gz4h CountryList--DisclosureLink--319na LanguageSelector--RegionLink--3ELcN Button--default--2gfm1\" href=\"/en-GM/weather/hourbyhour/l/1d31d60911d710f15ce8f3e783b002c5c5e206880716fc0ad69a5bc3cf1400c9\" target=\"_self\">Gambia | English</a><a class=\"ListItem--listItem--25ojW ListItem--disableBorder--2gz4h CountryList--DisclosureLink--319na LanguageSelector--RegionLink--3ELcN Button--default--2gfm1\" href=\"/en-GH/weather/hourbyhour/l/1d31d60911d710f15ce8f3e783b002c5c5e206880716fc0ad69a5bc3cf1400c9\" target=\"_self\">Ghana | English</a><a class=\"ListItem--listItem--25ojW ListItem--disableBorder--2gz4h CountryList--DisclosureLink--319na LanguageSelector--RegionLink--3ELcN Button--default--2gfm1\" href=\"/fr-GN/temps/parheure/l/1d31d60911d710f15ce8f3e783b002c5c5e206880716fc0ad69a5bc3cf1400c9\" target=\"_self\">Guinea | Français</a><a class=\"ListItem--listItem--25ojW ListItem--disableBorder--2gz4h CountryList--DisclosureLink--319na LanguageSelector--RegionLink--3ELcN Button--default--2gfm1\" href=\"/pt-GW/clima/horaria/l/1d31d60911d710f15ce8f3e783b002c5c5e206880716fc0ad69a5bc3cf1400c9\" target=\"_self\">Guinea-Bissau | Português</a><a class=\"ListItem--listItem--25ojW ListItem--disableBorder--2gz4h CountryList--DisclosureLink--319na LanguageSelector--RegionLink--3ELcN Button--default--2gfm1\" href=\"/en-KE/weather/hourbyhour/l/1d31d60911d710f15ce8f3e783b002c5c5e206880716fc0ad69a5bc3cf1400c9\" target=\"_self\">Kenya | English</a><a class=\"ListItem--listItem--25ojW ListItem--disableBorder--2gz4h CountryList--DisclosureLink--319na LanguageSelector--RegionLink--3ELcN Button--default--2gfm1\" href=\"/en-LS/weather/hourbyhour/l/1d31d60911d710f15ce8f3e783b002c5c5e206880716fc0ad69a5bc3cf1400c9\" target=\"_self\">Lesotho | English</a><a class=\"ListItem--listItem--25ojW ListItem--disableBorder--2gz4h CountryList--DisclosureLink--319na LanguageSelector--RegionLink--3ELcN Button--default--2gfm1\" href=\"/en-LR/weather/hourbyhour/l/1d31d60911d710f15ce8f3e783b002c5c5e206880716fc0ad69a5bc3cf1400c9\" target=\"_self\">Liberia | English</a><a class=\"ListItem--listItem--25ojW ListItem--disableBorder--2gz4h CountryList--DisclosureLink--319na LanguageSelector--RegionLink--3ELcN Button--default--2gfm1\" href=\"/ar-LY/weather/hourbyhour/l/1d31d60911d710f15ce8f3e783b002c5c5e206880716fc0ad69a5bc3cf1400c9\" tar\n"
     ]
    }
   ],
   "source": [
    "# use DuckDuckGo to find websites and take the first result\n",
    "url = search(query)[0]\n",
    "\n",
    "# scrape first wesbsite\n",
    "soup = scrape_weather_info(url)\n",
    "\n",
    "print(f\"Website: {url}\\n\\n\")\n",
    "print(str(soup.body)[:50000]) # limit long outputs"
   ]
  },
  {
   "cell_type": "code",
   "execution_count": 7,
   "id": "6cb3ef4c-58b3-401b-b104-0d51e553d982",
   "metadata": {
    "height": 251
   },
   "outputs": [
    {
     "name": "stdout",
     "output_type": "stream",
     "text": [
      "Website: https://weather.com/en-GB/weather/hourbyhour/l/London+England?canonicalCityId=805c6df1c2518951d4dffa28cf6e483358644c3131109dff6c9a8a2c265fbc67\n",
      "\n",
      "\n",
      "recents Special Forecasts Hourly Weather - London, England Moderate rain warning Wednesday, 4 September 15:00 Mostly Cloudy 16:00 Partly Cloudy 17:00 Mostly Cloudy 18:00 Mostly Cloudy 19:00 Mostly Cloudy 20:00 Cloudy 21:00 Cloudy 22:00 Cloudy 23:00 Cloudy Thursday, 5 September 0:00 Cloudy 1:00 Mostly Cloudy 2:00 Cloudy 3:00 Cloudy 4:00 Cloudy 5:00 Cloudy 6:00 Cloudy 7:00 Cloudy 8:00 Few Showers 9:00 Showers 10:00 Showers 11:00 Showers 12:00 Showers 13:00 Showers 14:00 Rain 15:00 Showers 16:00 Cloudy 17:00 Cloudy 18:00 Cloudy 19:00 Cloudy 20:00 Cloudy 21:00 Cloudy 22:00 Cloudy 23:00 Cloudy Friday, 6 September 0:00 Cloudy 1:00 Showers 2:00 Showers 3:00 Mostly Cloudy 4:00 Partly Cloudy 5:00 Partly Cloudy 6:00 Mostly Clear 7:00 Mostly Sunny 8:00 Showers 9:00 Partly Cloudy 10:00 Mostly Cloudy 11:00 Few Showers 12:00 Showers 13:00 Few Showers 14:00 Showers Radar We recognise our responsibility to use data and technology for good. We may use or share your data with our data vendors. Take control of your data. © The Weather Company, LLC 2024\n"
     ]
    }
   ],
   "source": [
    "# extract the weather_data text\n",
    "weather_data = []\n",
    "for tag in soup.find_all(['h1', 'h2', 'h3', 'p']):\n",
    "    text = tag.get_text(\" \", strip=True)\n",
    "    weather_data.append(text)\n",
    "\n",
    "# combine all elements into a single string\n",
    "weather_data = \"\\n\".join(weather_data)\n",
    "\n",
    "# remove all spaces from the combined text\n",
    "weather_data = re.sub(r'\\s+', ' ', weather_data)\n",
    "    \n",
    "print(f\"Website: {url}\\n\\n\")\n",
    "print(weather_data)"
   ]
  },
  {
   "cell_type": "markdown",
   "id": "92db676d-d8d9-4558-8dcf-1b20fcb48e45",
   "metadata": {},
   "source": [
    "## Agentic Search with Tavily"
   ]
  },
  {
   "cell_type": "code",
   "execution_count": 8,
   "id": "dc3293b7-a50c-43c8-a022-8975e1e444b8",
   "metadata": {
    "height": 132
   },
   "outputs": [
    {
     "name": "stdout",
     "output_type": "stream",
     "text": [
      "{'location': {'name': 'London', 'region': 'City of London, Greater London', 'country': 'United Kingdom', 'lat': 51.52, 'lon': -0.11, 'tz_id': 'Europe/London', 'localtime_epoch': 1725458496, 'localtime': '2024-09-04 15:01'}, 'current': {'last_updated_epoch': 1725458400, 'last_updated': '2024-09-04 15:00', 'temp_c': 19.0, 'temp_f': 66.2, 'is_day': 1, 'condition': {'text': 'Partly cloudy', 'icon': '//cdn.weatherapi.com/weather/64x64/day/116.png', 'code': 1003}, 'wind_mph': 5.6, 'wind_kph': 9.0, 'wind_degree': 360, 'wind_dir': 'N', 'pressure_mb': 1017.0, 'pressure_in': 30.03, 'precip_mm': 0.09, 'precip_in': 0.0, 'humidity': 52, 'cloud': 75, 'feelslike_c': 19.0, 'feelslike_f': 66.2, 'windchill_c': 19.2, 'windchill_f': 66.6, 'heatindex_c': 19.2, 'heatindex_f': 66.6, 'dewpoint_c': 10.2, 'dewpoint_f': 50.3, 'vis_km': 10.0, 'vis_miles': 6.0, 'uv': 4.0, 'gust_mph': 10.5, 'gust_kph': 16.8}}\n"
     ]
    }
   ],
   "source": [
    "# run search\n",
    "result = client.search(query, max_results=1)\n",
    "\n",
    "# print first result\n",
    "data = result[\"results\"][0][\"content\"]\n",
    "\n",
    "print(data)"
   ]
  },
  {
   "cell_type": "code",
   "execution_count": 9,
   "id": "0722c3d4-4cbf-43bf-81b0-50f634c4ce61",
   "metadata": {
    "height": 251
   },
   "outputs": [
    {
     "name": "stdout",
     "output_type": "stream",
     "text": [
      "{\u001b[37m\u001b[39;49;00m\n",
      "\u001b[37m    \u001b[39;49;00m\u001b[94m\"location\"\u001b[39;49;00m:\u001b[37m \u001b[39;49;00m{\u001b[37m\u001b[39;49;00m\n",
      "\u001b[37m        \u001b[39;49;00m\u001b[94m\"name\"\u001b[39;49;00m:\u001b[37m \u001b[39;49;00m\u001b[33m\"London\"\u001b[39;49;00m,\u001b[37m\u001b[39;49;00m\n",
      "\u001b[37m        \u001b[39;49;00m\u001b[94m\"region\"\u001b[39;49;00m:\u001b[37m \u001b[39;49;00m\u001b[33m\"City of London, Greater London\"\u001b[39;49;00m,\u001b[37m\u001b[39;49;00m\n",
      "\u001b[37m        \u001b[39;49;00m\u001b[94m\"country\"\u001b[39;49;00m:\u001b[37m \u001b[39;49;00m\u001b[33m\"United Kingdom\"\u001b[39;49;00m,\u001b[37m\u001b[39;49;00m\n",
      "\u001b[37m        \u001b[39;49;00m\u001b[94m\"lat\"\u001b[39;49;00m:\u001b[37m \u001b[39;49;00m\u001b[34m51.52\u001b[39;49;00m,\u001b[37m\u001b[39;49;00m\n",
      "\u001b[37m        \u001b[39;49;00m\u001b[94m\"lon\"\u001b[39;49;00m:\u001b[37m \u001b[39;49;00m\u001b[34m-0.11\u001b[39;49;00m,\u001b[37m\u001b[39;49;00m\n",
      "\u001b[37m        \u001b[39;49;00m\u001b[94m\"tz_id\"\u001b[39;49;00m:\u001b[37m \u001b[39;49;00m\u001b[33m\"Europe/London\"\u001b[39;49;00m,\u001b[37m\u001b[39;49;00m\n",
      "\u001b[37m        \u001b[39;49;00m\u001b[94m\"localtime_epoch\"\u001b[39;49;00m:\u001b[37m \u001b[39;49;00m\u001b[34m1725458496\u001b[39;49;00m,\u001b[37m\u001b[39;49;00m\n",
      "\u001b[37m        \u001b[39;49;00m\u001b[94m\"localtime\"\u001b[39;49;00m:\u001b[37m \u001b[39;49;00m\u001b[33m\"2024-09-04 15:01\"\u001b[39;49;00m\u001b[37m\u001b[39;49;00m\n",
      "\u001b[37m    \u001b[39;49;00m},\u001b[37m\u001b[39;49;00m\n",
      "\u001b[37m    \u001b[39;49;00m\u001b[94m\"current\"\u001b[39;49;00m:\u001b[37m \u001b[39;49;00m{\u001b[37m\u001b[39;49;00m\n",
      "\u001b[37m        \u001b[39;49;00m\u001b[94m\"last_updated_epoch\"\u001b[39;49;00m:\u001b[37m \u001b[39;49;00m\u001b[34m1725458400\u001b[39;49;00m,\u001b[37m\u001b[39;49;00m\n",
      "\u001b[37m        \u001b[39;49;00m\u001b[94m\"last_updated\"\u001b[39;49;00m:\u001b[37m \u001b[39;49;00m\u001b[33m\"2024-09-04 15:00\"\u001b[39;49;00m,\u001b[37m\u001b[39;49;00m\n",
      "\u001b[37m        \u001b[39;49;00m\u001b[94m\"temp_c\"\u001b[39;49;00m:\u001b[37m \u001b[39;49;00m\u001b[34m19.0\u001b[39;49;00m,\u001b[37m\u001b[39;49;00m\n",
      "\u001b[37m        \u001b[39;49;00m\u001b[94m\"temp_f\"\u001b[39;49;00m:\u001b[37m \u001b[39;49;00m\u001b[34m66.2\u001b[39;49;00m,\u001b[37m\u001b[39;49;00m\n",
      "\u001b[37m        \u001b[39;49;00m\u001b[94m\"is_day\"\u001b[39;49;00m:\u001b[37m \u001b[39;49;00m\u001b[34m1\u001b[39;49;00m,\u001b[37m\u001b[39;49;00m\n",
      "\u001b[37m        \u001b[39;49;00m\u001b[94m\"condition\"\u001b[39;49;00m:\u001b[37m \u001b[39;49;00m{\u001b[37m\u001b[39;49;00m\n",
      "\u001b[37m            \u001b[39;49;00m\u001b[94m\"text\"\u001b[39;49;00m:\u001b[37m \u001b[39;49;00m\u001b[33m\"Partly cloudy\"\u001b[39;49;00m,\u001b[37m\u001b[39;49;00m\n",
      "\u001b[37m            \u001b[39;49;00m\u001b[94m\"icon\"\u001b[39;49;00m:\u001b[37m \u001b[39;49;00m\u001b[33m\"//cdn.weatherapi.com/weather/64x64/day/116.png\"\u001b[39;49;00m,\u001b[37m\u001b[39;49;00m\n",
      "\u001b[37m            \u001b[39;49;00m\u001b[94m\"code\"\u001b[39;49;00m:\u001b[37m \u001b[39;49;00m\u001b[34m1003\u001b[39;49;00m\u001b[37m\u001b[39;49;00m\n",
      "\u001b[37m        \u001b[39;49;00m},\u001b[37m\u001b[39;49;00m\n",
      "\u001b[37m        \u001b[39;49;00m\u001b[94m\"wind_mph\"\u001b[39;49;00m:\u001b[37m \u001b[39;49;00m\u001b[34m5.6\u001b[39;49;00m,\u001b[37m\u001b[39;49;00m\n",
      "\u001b[37m        \u001b[39;49;00m\u001b[94m\"wind_kph\"\u001b[39;49;00m:\u001b[37m \u001b[39;49;00m\u001b[34m9.0\u001b[39;49;00m,\u001b[37m\u001b[39;49;00m\n",
      "\u001b[37m        \u001b[39;49;00m\u001b[94m\"wind_degree\"\u001b[39;49;00m:\u001b[37m \u001b[39;49;00m\u001b[34m360\u001b[39;49;00m,\u001b[37m\u001b[39;49;00m\n",
      "\u001b[37m        \u001b[39;49;00m\u001b[94m\"wind_dir\"\u001b[39;49;00m:\u001b[37m \u001b[39;49;00m\u001b[33m\"N\"\u001b[39;49;00m,\u001b[37m\u001b[39;49;00m\n",
      "\u001b[37m        \u001b[39;49;00m\u001b[94m\"pressure_mb\"\u001b[39;49;00m:\u001b[37m \u001b[39;49;00m\u001b[34m1017.0\u001b[39;49;00m,\u001b[37m\u001b[39;49;00m\n",
      "\u001b[37m        \u001b[39;49;00m\u001b[94m\"pressure_in\"\u001b[39;49;00m:\u001b[37m \u001b[39;49;00m\u001b[34m30.03\u001b[39;49;00m,\u001b[37m\u001b[39;49;00m\n",
      "\u001b[37m        \u001b[39;49;00m\u001b[94m\"precip_mm\"\u001b[39;49;00m:\u001b[37m \u001b[39;49;00m\u001b[34m0.09\u001b[39;49;00m,\u001b[37m\u001b[39;49;00m\n",
      "\u001b[37m        \u001b[39;49;00m\u001b[94m\"precip_in\"\u001b[39;49;00m:\u001b[37m \u001b[39;49;00m\u001b[34m0.0\u001b[39;49;00m,\u001b[37m\u001b[39;49;00m\n",
      "\u001b[37m        \u001b[39;49;00m\u001b[94m\"humidity\"\u001b[39;49;00m:\u001b[37m \u001b[39;49;00m\u001b[34m52\u001b[39;49;00m,\u001b[37m\u001b[39;49;00m\n",
      "\u001b[37m        \u001b[39;49;00m\u001b[94m\"cloud\"\u001b[39;49;00m:\u001b[37m \u001b[39;49;00m\u001b[34m75\u001b[39;49;00m,\u001b[37m\u001b[39;49;00m\n",
      "\u001b[37m        \u001b[39;49;00m\u001b[94m\"feelslike_c\"\u001b[39;49;00m:\u001b[37m \u001b[39;49;00m\u001b[34m19.0\u001b[39;49;00m,\u001b[37m\u001b[39;49;00m\n",
      "\u001b[37m        \u001b[39;49;00m\u001b[94m\"feelslike_f\"\u001b[39;49;00m:\u001b[37m \u001b[39;49;00m\u001b[34m66.2\u001b[39;49;00m,\u001b[37m\u001b[39;49;00m\n",
      "\u001b[37m        \u001b[39;49;00m\u001b[94m\"windchill_c\"\u001b[39;49;00m:\u001b[37m \u001b[39;49;00m\u001b[34m19.2\u001b[39;49;00m,\u001b[37m\u001b[39;49;00m\n",
      "\u001b[37m        \u001b[39;49;00m\u001b[94m\"windchill_f\"\u001b[39;49;00m:\u001b[37m \u001b[39;49;00m\u001b[34m66.6\u001b[39;49;00m,\u001b[37m\u001b[39;49;00m\n",
      "\u001b[37m        \u001b[39;49;00m\u001b[94m\"heatindex_c\"\u001b[39;49;00m:\u001b[37m \u001b[39;49;00m\u001b[34m19.2\u001b[39;49;00m,\u001b[37m\u001b[39;49;00m\n",
      "\u001b[37m        \u001b[39;49;00m\u001b[94m\"heatindex_f\"\u001b[39;49;00m:\u001b[37m \u001b[39;49;00m\u001b[34m66.6\u001b[39;49;00m,\u001b[37m\u001b[39;49;00m\n",
      "\u001b[37m        \u001b[39;49;00m\u001b[94m\"dewpoint_c\"\u001b[39;49;00m:\u001b[37m \u001b[39;49;00m\u001b[34m10.2\u001b[39;49;00m,\u001b[37m\u001b[39;49;00m\n",
      "\u001b[37m        \u001b[39;49;00m\u001b[94m\"dewpoint_f\"\u001b[39;49;00m:\u001b[37m \u001b[39;49;00m\u001b[34m50.3\u001b[39;49;00m,\u001b[37m\u001b[39;49;00m\n",
      "\u001b[37m        \u001b[39;49;00m\u001b[94m\"vis_km\"\u001b[39;49;00m:\u001b[37m \u001b[39;49;00m\u001b[34m10.0\u001b[39;49;00m,\u001b[37m\u001b[39;49;00m\n",
      "\u001b[37m        \u001b[39;49;00m\u001b[94m\"vis_miles\"\u001b[39;49;00m:\u001b[37m \u001b[39;49;00m\u001b[34m6.0\u001b[39;49;00m,\u001b[37m\u001b[39;49;00m\n",
      "\u001b[37m        \u001b[39;49;00m\u001b[94m\"uv\"\u001b[39;49;00m:\u001b[37m \u001b[39;49;00m\u001b[34m4.0\u001b[39;49;00m,\u001b[37m\u001b[39;49;00m\n",
      "\u001b[37m        \u001b[39;49;00m\u001b[94m\"gust_mph\"\u001b[39;49;00m:\u001b[37m \u001b[39;49;00m\u001b[34m10.5\u001b[39;49;00m,\u001b[37m\u001b[39;49;00m\n",
      "\u001b[37m        \u001b[39;49;00m\u001b[94m\"gust_kph\"\u001b[39;49;00m:\u001b[37m \u001b[39;49;00m\u001b[34m16.8\u001b[39;49;00m\u001b[37m\u001b[39;49;00m\n",
      "\u001b[37m    \u001b[39;49;00m}\u001b[37m\u001b[39;49;00m\n",
      "}\u001b[37m\u001b[39;49;00m\n",
      "\n"
     ]
    }
   ],
   "source": [
    "import json\n",
    "from pygments import highlight, lexers, formatters\n",
    "\n",
    "# parse JSON\n",
    "parsed_json = json.loads(data.replace(\"'\", '\"'))\n",
    "\n",
    "# pretty print JSON with syntax highlighting\n",
    "formatted_json = json.dumps(parsed_json, indent=4)\n",
    "colorful_json = highlight(formatted_json,\n",
    "                          lexers.JsonLexer(),\n",
    "                          formatters.TerminalFormatter())\n",
    "\n",
    "print(colorful_json)\n"
   ]
  },
  {
   "cell_type": "markdown",
   "id": "355aa8f1",
   "metadata": {
    "height": 30
   },
   "source": [
    "As you can see, this is not the answer I would want to see as a human. But this is the exact answer an agent would want, a structured data.\n"
   ]
  }
 ],
 "metadata": {
  "kernelspec": {
   "display_name": "Python 3 (ipykernel)",
   "language": "python",
   "name": "python3"
  },
  "language_info": {
   "codemirror_mode": {
    "name": "ipython",
    "version": 3
   },
   "file_extension": ".py",
   "mimetype": "text/x-python",
   "name": "python",
   "nbconvert_exporter": "python",
   "pygments_lexer": "ipython3",
   "version": "3.11.9"
  }
 },
 "nbformat": 4,
 "nbformat_minor": 5
}
